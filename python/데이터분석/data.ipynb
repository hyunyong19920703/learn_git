{
 "cells": [
  {
   "cell_type": "code",
   "execution_count": null,
   "metadata": {},
   "outputs": [],
   "source": [
    "import pandas as pd\n",
    "\n",
    "df = pd.read_csv(\"Iris.csv\", delimiter=\",\", index_col=\"Id\", header=0)\n",
    "\n",
    "# 또는 아래와 같이 names에 컬럼명을 넘겨주면 명시적으로 컬럼명을 지정할 수도 있습니다.\n",
    "col_names = [\"Id\", \"SepalLengthCm\", \"SepalWidthCm\", \"PetalLengthCm\", \"PetalWidthCm\", \"Species\"]\n",
    "df = pd.read_csv(\"Iris.csv\", delimiter=\",\", names=col_names, index_col=0, header=None)\n",
    "df.head()"
   ]
  }
 ],
 "metadata": {
  "language_info": {
   "name": "python"
  },
  "orig_nbformat": 4
 },
 "nbformat": 4,
 "nbformat_minor": 2
}
